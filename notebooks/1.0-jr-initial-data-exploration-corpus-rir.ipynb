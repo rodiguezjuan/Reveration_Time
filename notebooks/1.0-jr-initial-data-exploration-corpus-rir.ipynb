{
 "cells": [
  {
   "cell_type": "code",
   "execution_count": 1,
   "metadata": {},
   "outputs": [
    {
     "name": "stdout",
     "output_type": "stream",
     "text": [
      "2.0.1+cpu\n",
      "2.0.2+cpu\n"
     ]
    }
   ],
   "source": [
    "import os\n",
    "from os.path import join\n",
    "\n",
    "import torch\n",
    "import torchaudio\n",
    "\n",
    "print(torch.__version__)\n",
    "print(torchaudio.__version__)"
   ]
  },
  {
   "cell_type": "code",
   "execution_count": 3,
   "metadata": {},
   "outputs": [
    {
     "name": "stdout",
     "output_type": "stream",
     "text": [
      "['Mobile_503_2_RIR.wav', 'Mobile_508_1_RIR.wav', 'Mobile_508_2_RIR.wav', 'Mobile_611_1_RIR.wav', 'Mobile_611_2_RIR.wav', 'Mobile_803_1_RIR.wav', 'Mobile_803_2_RIR.wav', 'Mobile_EE_lobby_1_RIR.wav', 'Mobile_EE_lobby_2_RIR.wav', 'Single_403a_1_RIR.wav', 'Single_403a_2_RIR.wav', 'Single_502_1_RIR.wav', 'Single_502_2_RIR.wav', 'Single_503_1_RIR.wav', 'Single_503_2_RIR.wav', 'Single_508_1_RIR.wav', 'Single_508_2_RIR.wav', 'Single_611_1_RIR.wav', 'Single_611_2_RIR.wav', 'Single_803_1_RIR.wav', 'Single_803_2_RIR.wav', 'Single_EE_lobby_1_RIR.wav', 'Single_EE_lobby_2_RIR.wav', 'Chromebook_403a_1_RIR.wav', 'Chromebook_403a_2_RIR.wav', 'Chromebook_502_1_RIR.wav', 'Chromebook_502_2_RIR.wav', 'Chromebook_503_1_RIR.wav', 'Chromebook_503_2_RIR.wav', 'Chromebook_508_1_RIR.wav', 'Chromebook_508_2_RIR.wav', 'Chromebook_611_1_RIR.wav', 'Chromebook_611_2_RIR.wav', 'Chromebook_803_1_RIR.wav', 'Chromebook_803_2_RIR.wav', 'Chromebook_EE_lobby_1_RIR.wav', 'Chromebook_EE_lobby_2_RIR.wav', 'Crucif_403a_2_RIR.wav', 'Crucif_502_1_RIR.wav', 'Crucif_502_2_RIR.wav', 'Crucif_503_1_RIR.wav', 'Crucif_503_2_RIR.wav', 'Crucif_508_1_RIR.wav', 'Crucif_508_2_RIR.wav', 'Crucif_611_1_RIR.wav', 'Crucif_611_2_RIR.wav', 'Crucif_803_1_RIR.wav', 'Crucif_803_2_RIR.wav', 'Crucif_EE_lobby_1_RIR.wav', 'Crucif_EE_lobby_2_RIR.wav', 'EM32_403a_1_RIR.wav', 'EM32_502_1_RIR.wav', 'EM32_502_2_RIR.wav', 'EM32_503_1_RIR.wav', 'EM32_503_2_RIR.wav', 'EM32_508_1_RIR.wav', 'EM32_508_2_RIR.wav', 'EM32_611_1_RIR.wav', 'EM32_611_2_RIR.wav', 'EM32_803_1_RIR.wav', 'EM32_803_2_RIR.wav', 'EM32_EE_lobby_1_RIR.wav', 'EM32_EE_lobby_2_RIR.wav', 'Lin8Ch_403a_1_RIR.wav', 'Lin8Ch_403a_2_RIR.wav', 'Lin8Ch_502_1_RIR.wav', 'Lin8Ch_503_1_RIR.wav', 'Lin8Ch_503_2_RIR.wav', 'Lin8Ch_508_1_RIR.wav', 'Lin8Ch_508_2_RIR.wav', 'Lin8Ch_611_1_RIR.wav', 'Lin8Ch_611_2_RIR.wav', 'Lin8Ch_803_1_RIR.wav', 'Lin8Ch_803_2_RIR.wav', 'Lin8Ch_EE_lobby_1_RIR.wav', 'Lin8Ch_EE_lobby_2_RIR.wav', 'Mobile_403a_1_RIR.wav', 'Mobile_403a_2_RIR.wav', 'Mobile_502_1_RIR.wav', 'Mobile_502_2_RIR.wav', 'Crucif_403a_1_RIR.wav', 'EM32_403a_2_RIR.wav', 'Lin8Ch_502_2_RIR.wav', 'Mobile_503_1_RIR.wav']\n"
     ]
    }
   ],
   "source": [
    "path_folder_ace_rir = '../data/raw/RIR_Corpus_ACE/'\n",
    "list_doc_ace_rir = os.listdir(path_folder_ace_rir)\n",
    "print(list_doc_ace_rir)"
   ]
  },
  {
   "cell_type": "code",
   "execution_count": null,
   "metadata": {},
   "outputs": [],
   "source": []
  }
 ],
 "metadata": {
  "kernelspec": {
   "display_name": "reveration_time",
   "language": "python",
   "name": "python3"
  },
  "language_info": {
   "codemirror_mode": {
    "name": "ipython",
    "version": 3
   },
   "file_extension": ".py",
   "mimetype": "text/x-python",
   "name": "python",
   "nbconvert_exporter": "python",
   "pygments_lexer": "ipython3",
   "version": "3.10.12"
  },
  "orig_nbformat": 4
 },
 "nbformat": 4,
 "nbformat_minor": 2
}
